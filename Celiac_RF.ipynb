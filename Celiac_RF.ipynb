{
  "nbformat": 4,
  "nbformat_minor": 0,
  "metadata": {
    "colab": {
      "provenance": []
    },
    "kernelspec": {
      "name": "python3",
      "display_name": "Python 3"
    },
    "language_info": {
      "name": "python"
    }
  },
  "cells": [
    {
      "cell_type": "code",
      "execution_count": null,
      "metadata": {
        "id": "ncM_DNEoP00d"
      },
      "outputs": [],
      "source": [
        "import pandas as pd\n",
        "import numpy as np\n",
        "import seaborn as sns\n",
        "import plotly.express as px\n",
        "import matplotlib.pyplot as plt\n",
        "from sklearn.tree import DecisionTreeClassifier\n",
        "from sklearn.model_selection import train_test_split\n",
        "from sklearn import metrics\n",
        "from sklearn.preprocessing import LabelEncoder, OneHotEncoder\n",
        "from sklearn.utils import resample\n",
        "from sklearn.ensemble import RandomForestClassifier\n",
        "from sklearn.model_selection import GridSearchCV\n",
        "from sklearn.metrics import accuracy_score\n",
        "from sklearn.metrics import classification_report\n",
        "from sklearn.metrics import confusion_matrix"
      ]
    },
    {
      "cell_type": "code",
      "source": [
        "original_data = pd.read_csv('celiac.csv')"
      ],
      "metadata": {
        "id": "gOCYPfA3rkX3"
      },
      "execution_count": null,
      "outputs": []
    },
    {
      "cell_type": "code",
      "source": [
        "original_data.shape"
      ],
      "metadata": {
        "colab": {
          "base_uri": "https://localhost:8080/"
        },
        "id": "sQIUkJXQssSU",
        "outputId": "c2530baf-5bc4-4d9d-a966-4ed9f4a4a24e"
      },
      "execution_count": null,
      "outputs": [
        {
          "output_type": "execute_result",
          "data": {
            "text/plain": [
              "(2206, 15)"
            ]
          },
          "metadata": {},
          "execution_count": 79
        }
      ]
    },
    {
      "cell_type": "code",
      "source": [
        "original_data.head(5)"
      ],
      "metadata": {
        "colab": {
          "base_uri": "https://localhost:8080/",
          "height": 365
        },
        "id": "a0OVlRSE9Zi5",
        "outputId": "af434d86-13fb-4a1f-eedb-8e12f0041dfb"
      },
      "execution_count": null,
      "outputs": [
        {
          "output_type": "execute_result",
          "data": {
            "text/plain": [
              "   Age  Gender Diabetes Diabetes Type     Diarrhoea Abdominal Short_Stature  \\\n",
              "0   10    Male      Yes        Type 1  inflammatory       yes           PSS   \n",
              "1    9    Male      Yes        Type 1        fatty        yes           PSS   \n",
              "2    8  Female      Yes        Type 1        watery       yes      Variant    \n",
              "3   10    Male      Yes        Type 1        watery       yes           PSS   \n",
              "4    9    Male      Yes        Type 1        fatty        yes           PSS   \n",
              "\n",
              "  Sticky_Stool Weight_loss   IgA   IgG   IgM          Marsh    cd_type  \\\n",
              "0           no          no  1.30  10.0  1.00   marsh type 0  potential   \n",
              "1           no          no  1.50  12.5  1.30  marsh type 3a   atypical   \n",
              "2          yes         yes  0.40   8.0  0.50   marsh type 1     latent   \n",
              "3           no          no  0.98   9.0  0.66  marsh type 3a     silent   \n",
              "4           no          no  1.00  10.5  1.10   marsh type 1     latent   \n",
              "\n",
              "  Disease_Diagnose  \n",
              "0              yes  \n",
              "1              yes  \n",
              "2              yes  \n",
              "3              yes  \n",
              "4              yes  "
            ],
            "text/html": [
              "\n",
              "  <div id=\"df-fd28f505-a295-4411-b58d-fe4e480e5a33\" class=\"colab-df-container\">\n",
              "    <div>\n",
              "<style scoped>\n",
              "    .dataframe tbody tr th:only-of-type {\n",
              "        vertical-align: middle;\n",
              "    }\n",
              "\n",
              "    .dataframe tbody tr th {\n",
              "        vertical-align: top;\n",
              "    }\n",
              "\n",
              "    .dataframe thead th {\n",
              "        text-align: right;\n",
              "    }\n",
              "</style>\n",
              "<table border=\"1\" class=\"dataframe\">\n",
              "  <thead>\n",
              "    <tr style=\"text-align: right;\">\n",
              "      <th></th>\n",
              "      <th>Age</th>\n",
              "      <th>Gender</th>\n",
              "      <th>Diabetes</th>\n",
              "      <th>Diabetes Type</th>\n",
              "      <th>Diarrhoea</th>\n",
              "      <th>Abdominal</th>\n",
              "      <th>Short_Stature</th>\n",
              "      <th>Sticky_Stool</th>\n",
              "      <th>Weight_loss</th>\n",
              "      <th>IgA</th>\n",
              "      <th>IgG</th>\n",
              "      <th>IgM</th>\n",
              "      <th>Marsh</th>\n",
              "      <th>cd_type</th>\n",
              "      <th>Disease_Diagnose</th>\n",
              "    </tr>\n",
              "  </thead>\n",
              "  <tbody>\n",
              "    <tr>\n",
              "      <th>0</th>\n",
              "      <td>10</td>\n",
              "      <td>Male</td>\n",
              "      <td>Yes</td>\n",
              "      <td>Type 1</td>\n",
              "      <td>inflammatory</td>\n",
              "      <td>yes</td>\n",
              "      <td>PSS</td>\n",
              "      <td>no</td>\n",
              "      <td>no</td>\n",
              "      <td>1.30</td>\n",
              "      <td>10.0</td>\n",
              "      <td>1.00</td>\n",
              "      <td>marsh type 0</td>\n",
              "      <td>potential</td>\n",
              "      <td>yes</td>\n",
              "    </tr>\n",
              "    <tr>\n",
              "      <th>1</th>\n",
              "      <td>9</td>\n",
              "      <td>Male</td>\n",
              "      <td>Yes</td>\n",
              "      <td>Type 1</td>\n",
              "      <td>fatty</td>\n",
              "      <td>yes</td>\n",
              "      <td>PSS</td>\n",
              "      <td>no</td>\n",
              "      <td>no</td>\n",
              "      <td>1.50</td>\n",
              "      <td>12.5</td>\n",
              "      <td>1.30</td>\n",
              "      <td>marsh type 3a</td>\n",
              "      <td>atypical</td>\n",
              "      <td>yes</td>\n",
              "    </tr>\n",
              "    <tr>\n",
              "      <th>2</th>\n",
              "      <td>8</td>\n",
              "      <td>Female</td>\n",
              "      <td>Yes</td>\n",
              "      <td>Type 1</td>\n",
              "      <td>watery</td>\n",
              "      <td>yes</td>\n",
              "      <td>Variant</td>\n",
              "      <td>yes</td>\n",
              "      <td>yes</td>\n",
              "      <td>0.40</td>\n",
              "      <td>8.0</td>\n",
              "      <td>0.50</td>\n",
              "      <td>marsh type 1</td>\n",
              "      <td>latent</td>\n",
              "      <td>yes</td>\n",
              "    </tr>\n",
              "    <tr>\n",
              "      <th>3</th>\n",
              "      <td>10</td>\n",
              "      <td>Male</td>\n",
              "      <td>Yes</td>\n",
              "      <td>Type 1</td>\n",
              "      <td>watery</td>\n",
              "      <td>yes</td>\n",
              "      <td>PSS</td>\n",
              "      <td>no</td>\n",
              "      <td>no</td>\n",
              "      <td>0.98</td>\n",
              "      <td>9.0</td>\n",
              "      <td>0.66</td>\n",
              "      <td>marsh type 3a</td>\n",
              "      <td>silent</td>\n",
              "      <td>yes</td>\n",
              "    </tr>\n",
              "    <tr>\n",
              "      <th>4</th>\n",
              "      <td>9</td>\n",
              "      <td>Male</td>\n",
              "      <td>Yes</td>\n",
              "      <td>Type 1</td>\n",
              "      <td>fatty</td>\n",
              "      <td>yes</td>\n",
              "      <td>PSS</td>\n",
              "      <td>no</td>\n",
              "      <td>no</td>\n",
              "      <td>1.00</td>\n",
              "      <td>10.5</td>\n",
              "      <td>1.10</td>\n",
              "      <td>marsh type 1</td>\n",
              "      <td>latent</td>\n",
              "      <td>yes</td>\n",
              "    </tr>\n",
              "  </tbody>\n",
              "</table>\n",
              "</div>\n",
              "    <div class=\"colab-df-buttons\">\n",
              "\n",
              "  <div class=\"colab-df-container\">\n",
              "    <button class=\"colab-df-convert\" onclick=\"convertToInteractive('df-fd28f505-a295-4411-b58d-fe4e480e5a33')\"\n",
              "            title=\"Convert this dataframe to an interactive table.\"\n",
              "            style=\"display:none;\">\n",
              "\n",
              "  <svg xmlns=\"http://www.w3.org/2000/svg\" height=\"24px\" viewBox=\"0 -960 960 960\">\n",
              "    <path d=\"M120-120v-720h720v720H120Zm60-500h600v-160H180v160Zm220 220h160v-160H400v160Zm0 220h160v-160H400v160ZM180-400h160v-160H180v160Zm440 0h160v-160H620v160ZM180-180h160v-160H180v160Zm440 0h160v-160H620v160Z\"/>\n",
              "  </svg>\n",
              "    </button>\n",
              "\n",
              "  <style>\n",
              "    .colab-df-container {\n",
              "      display:flex;\n",
              "      gap: 12px;\n",
              "    }\n",
              "\n",
              "    .colab-df-convert {\n",
              "      background-color: #E8F0FE;\n",
              "      border: none;\n",
              "      border-radius: 50%;\n",
              "      cursor: pointer;\n",
              "      display: none;\n",
              "      fill: #1967D2;\n",
              "      height: 32px;\n",
              "      padding: 0 0 0 0;\n",
              "      width: 32px;\n",
              "    }\n",
              "\n",
              "    .colab-df-convert:hover {\n",
              "      background-color: #E2EBFA;\n",
              "      box-shadow: 0px 1px 2px rgba(60, 64, 67, 0.3), 0px 1px 3px 1px rgba(60, 64, 67, 0.15);\n",
              "      fill: #174EA6;\n",
              "    }\n",
              "\n",
              "    .colab-df-buttons div {\n",
              "      margin-bottom: 4px;\n",
              "    }\n",
              "\n",
              "    [theme=dark] .colab-df-convert {\n",
              "      background-color: #3B4455;\n",
              "      fill: #D2E3FC;\n",
              "    }\n",
              "\n",
              "    [theme=dark] .colab-df-convert:hover {\n",
              "      background-color: #434B5C;\n",
              "      box-shadow: 0px 1px 3px 1px rgba(0, 0, 0, 0.15);\n",
              "      filter: drop-shadow(0px 1px 2px rgba(0, 0, 0, 0.3));\n",
              "      fill: #FFFFFF;\n",
              "    }\n",
              "  </style>\n",
              "\n",
              "    <script>\n",
              "      const buttonEl =\n",
              "        document.querySelector('#df-fd28f505-a295-4411-b58d-fe4e480e5a33 button.colab-df-convert');\n",
              "      buttonEl.style.display =\n",
              "        google.colab.kernel.accessAllowed ? 'block' : 'none';\n",
              "\n",
              "      async function convertToInteractive(key) {\n",
              "        const element = document.querySelector('#df-fd28f505-a295-4411-b58d-fe4e480e5a33');\n",
              "        const dataTable =\n",
              "          await google.colab.kernel.invokeFunction('convertToInteractive',\n",
              "                                                    [key], {});\n",
              "        if (!dataTable) return;\n",
              "\n",
              "        const docLinkHtml = 'Like what you see? Visit the ' +\n",
              "          '<a target=\"_blank\" href=https://colab.research.google.com/notebooks/data_table.ipynb>data table notebook</a>'\n",
              "          + ' to learn more about interactive tables.';\n",
              "        element.innerHTML = '';\n",
              "        dataTable['output_type'] = 'display_data';\n",
              "        await google.colab.output.renderOutput(dataTable, element);\n",
              "        const docLink = document.createElement('div');\n",
              "        docLink.innerHTML = docLinkHtml;\n",
              "        element.appendChild(docLink);\n",
              "      }\n",
              "    </script>\n",
              "  </div>\n",
              "\n",
              "\n",
              "<div id=\"df-56347525-b0c5-473f-b322-80c28892f1b8\">\n",
              "  <button class=\"colab-df-quickchart\" onclick=\"quickchart('df-56347525-b0c5-473f-b322-80c28892f1b8')\"\n",
              "            title=\"Suggest charts\"\n",
              "            style=\"display:none;\">\n",
              "\n",
              "<svg xmlns=\"http://www.w3.org/2000/svg\" height=\"24px\"viewBox=\"0 0 24 24\"\n",
              "     width=\"24px\">\n",
              "    <g>\n",
              "        <path d=\"M19 3H5c-1.1 0-2 .9-2 2v14c0 1.1.9 2 2 2h14c1.1 0 2-.9 2-2V5c0-1.1-.9-2-2-2zM9 17H7v-7h2v7zm4 0h-2V7h2v10zm4 0h-2v-4h2v4z\"/>\n",
              "    </g>\n",
              "</svg>\n",
              "  </button>\n",
              "\n",
              "<style>\n",
              "  .colab-df-quickchart {\n",
              "      --bg-color: #E8F0FE;\n",
              "      --fill-color: #1967D2;\n",
              "      --hover-bg-color: #E2EBFA;\n",
              "      --hover-fill-color: #174EA6;\n",
              "      --disabled-fill-color: #AAA;\n",
              "      --disabled-bg-color: #DDD;\n",
              "  }\n",
              "\n",
              "  [theme=dark] .colab-df-quickchart {\n",
              "      --bg-color: #3B4455;\n",
              "      --fill-color: #D2E3FC;\n",
              "      --hover-bg-color: #434B5C;\n",
              "      --hover-fill-color: #FFFFFF;\n",
              "      --disabled-bg-color: #3B4455;\n",
              "      --disabled-fill-color: #666;\n",
              "  }\n",
              "\n",
              "  .colab-df-quickchart {\n",
              "    background-color: var(--bg-color);\n",
              "    border: none;\n",
              "    border-radius: 50%;\n",
              "    cursor: pointer;\n",
              "    display: none;\n",
              "    fill: var(--fill-color);\n",
              "    height: 32px;\n",
              "    padding: 0;\n",
              "    width: 32px;\n",
              "  }\n",
              "\n",
              "  .colab-df-quickchart:hover {\n",
              "    background-color: var(--hover-bg-color);\n",
              "    box-shadow: 0 1px 2px rgba(60, 64, 67, 0.3), 0 1px 3px 1px rgba(60, 64, 67, 0.15);\n",
              "    fill: var(--button-hover-fill-color);\n",
              "  }\n",
              "\n",
              "  .colab-df-quickchart-complete:disabled,\n",
              "  .colab-df-quickchart-complete:disabled:hover {\n",
              "    background-color: var(--disabled-bg-color);\n",
              "    fill: var(--disabled-fill-color);\n",
              "    box-shadow: none;\n",
              "  }\n",
              "\n",
              "  .colab-df-spinner {\n",
              "    border: 2px solid var(--fill-color);\n",
              "    border-color: transparent;\n",
              "    border-bottom-color: var(--fill-color);\n",
              "    animation:\n",
              "      spin 1s steps(1) infinite;\n",
              "  }\n",
              "\n",
              "  @keyframes spin {\n",
              "    0% {\n",
              "      border-color: transparent;\n",
              "      border-bottom-color: var(--fill-color);\n",
              "      border-left-color: var(--fill-color);\n",
              "    }\n",
              "    20% {\n",
              "      border-color: transparent;\n",
              "      border-left-color: var(--fill-color);\n",
              "      border-top-color: var(--fill-color);\n",
              "    }\n",
              "    30% {\n",
              "      border-color: transparent;\n",
              "      border-left-color: var(--fill-color);\n",
              "      border-top-color: var(--fill-color);\n",
              "      border-right-color: var(--fill-color);\n",
              "    }\n",
              "    40% {\n",
              "      border-color: transparent;\n",
              "      border-right-color: var(--fill-color);\n",
              "      border-top-color: var(--fill-color);\n",
              "    }\n",
              "    60% {\n",
              "      border-color: transparent;\n",
              "      border-right-color: var(--fill-color);\n",
              "    }\n",
              "    80% {\n",
              "      border-color: transparent;\n",
              "      border-right-color: var(--fill-color);\n",
              "      border-bottom-color: var(--fill-color);\n",
              "    }\n",
              "    90% {\n",
              "      border-color: transparent;\n",
              "      border-bottom-color: var(--fill-color);\n",
              "    }\n",
              "  }\n",
              "</style>\n",
              "\n",
              "  <script>\n",
              "    async function quickchart(key) {\n",
              "      const quickchartButtonEl =\n",
              "        document.querySelector('#' + key + ' button');\n",
              "      quickchartButtonEl.disabled = true;  // To prevent multiple clicks.\n",
              "      quickchartButtonEl.classList.add('colab-df-spinner');\n",
              "      try {\n",
              "        const charts = await google.colab.kernel.invokeFunction(\n",
              "            'suggestCharts', [key], {});\n",
              "      } catch (error) {\n",
              "        console.error('Error during call to suggestCharts:', error);\n",
              "      }\n",
              "      quickchartButtonEl.classList.remove('colab-df-spinner');\n",
              "      quickchartButtonEl.classList.add('colab-df-quickchart-complete');\n",
              "    }\n",
              "    (() => {\n",
              "      let quickchartButtonEl =\n",
              "        document.querySelector('#df-56347525-b0c5-473f-b322-80c28892f1b8 button');\n",
              "      quickchartButtonEl.style.display =\n",
              "        google.colab.kernel.accessAllowed ? 'block' : 'none';\n",
              "    })();\n",
              "  </script>\n",
              "</div>\n",
              "    </div>\n",
              "  </div>\n"
            ],
            "application/vnd.google.colaboratory.intrinsic+json": {
              "type": "dataframe",
              "variable_name": "original_data",
              "summary": "{\n  \"name\": \"original_data\",\n  \"rows\": 2206,\n  \"fields\": [\n    {\n      \"column\": \"Age\",\n      \"properties\": {\n        \"dtype\": \"number\",\n        \"std\": 7,\n        \"min\": 1,\n        \"max\": 35,\n        \"num_unique_values\": 32,\n        \"samples\": [\n          24,\n          31,\n          25\n        ],\n        \"semantic_type\": \"\",\n        \"description\": \"\"\n      }\n    },\n    {\n      \"column\": \"Gender\",\n      \"properties\": {\n        \"dtype\": \"category\",\n        \"num_unique_values\": 2,\n        \"samples\": [\n          \"Female\",\n          \"Male\"\n        ],\n        \"semantic_type\": \"\",\n        \"description\": \"\"\n      }\n    },\n    {\n      \"column\": \"Diabetes\",\n      \"properties\": {\n        \"dtype\": \"category\",\n        \"num_unique_values\": 2,\n        \"samples\": [\n          \"no\",\n          \"Yes\"\n        ],\n        \"semantic_type\": \"\",\n        \"description\": \"\"\n      }\n    },\n    {\n      \"column\": \"Diabetes Type\",\n      \"properties\": {\n        \"dtype\": \"category\",\n        \"num_unique_values\": 2,\n        \"samples\": [\n          \"Type 2\",\n          \"Type 1\"\n        ],\n        \"semantic_type\": \"\",\n        \"description\": \"\"\n      }\n    },\n    {\n      \"column\": \"Diarrhoea\",\n      \"properties\": {\n        \"dtype\": \"category\",\n        \"num_unique_values\": 3,\n        \"samples\": [\n          \"inflammatory\",\n          \"fatty \"\n        ],\n        \"semantic_type\": \"\",\n        \"description\": \"\"\n      }\n    },\n    {\n      \"column\": \"Abdominal\",\n      \"properties\": {\n        \"dtype\": \"category\",\n        \"num_unique_values\": 2,\n        \"samples\": [\n          \"no\",\n          \"yes\"\n        ],\n        \"semantic_type\": \"\",\n        \"description\": \"\"\n      }\n    },\n    {\n      \"column\": \"Short_Stature\",\n      \"properties\": {\n        \"dtype\": \"category\",\n        \"num_unique_values\": 3,\n        \"samples\": [\n          \"PSS\",\n          \"Variant \"\n        ],\n        \"semantic_type\": \"\",\n        \"description\": \"\"\n      }\n    },\n    {\n      \"column\": \"Sticky_Stool\",\n      \"properties\": {\n        \"dtype\": \"category\",\n        \"num_unique_values\": 2,\n        \"samples\": [\n          \"yes\",\n          \"no\"\n        ],\n        \"semantic_type\": \"\",\n        \"description\": \"\"\n      }\n    },\n    {\n      \"column\": \"Weight_loss\",\n      \"properties\": {\n        \"dtype\": \"category\",\n        \"num_unique_values\": 2,\n        \"samples\": [\n          \"yes\",\n          \"no\"\n        ],\n        \"semantic_type\": \"\",\n        \"description\": \"\"\n      }\n    },\n    {\n      \"column\": \"IgA\",\n      \"properties\": {\n        \"dtype\": \"number\",\n        \"std\": 1.1100415730450104,\n        \"min\": 0.34,\n        \"max\": 9.0,\n        \"num_unique_values\": 35,\n        \"samples\": [\n          1.2,\n          0.97\n        ],\n        \"semantic_type\": \"\",\n        \"description\": \"\"\n      }\n    },\n    {\n      \"column\": \"IgG\",\n      \"properties\": {\n        \"dtype\": \"number\",\n        \"std\": 2.0476828818905837,\n        \"min\": 5.0,\n        \"max\": 15.3,\n        \"num_unique_values\": 36,\n        \"samples\": [\n          11.1,\n          12.3\n        ],\n        \"semantic_type\": \"\",\n        \"description\": \"\"\n      }\n    },\n    {\n      \"column\": \"IgM\",\n      \"properties\": {\n        \"dtype\": \"number\",\n        \"std\": 0.4472161565520147,\n        \"min\": 0.5,\n        \"max\": 2.7,\n        \"num_unique_values\": 27,\n        \"samples\": [\n          1.5,\n          2.7\n        ],\n        \"semantic_type\": \"\",\n        \"description\": \"\"\n      }\n    },\n    {\n      \"column\": \"Marsh\",\n      \"properties\": {\n        \"dtype\": \"category\",\n        \"num_unique_values\": 7,\n        \"samples\": [\n          \"marsh type 0\",\n          \"marsh type 3a\"\n        ],\n        \"semantic_type\": \"\",\n        \"description\": \"\"\n      }\n    },\n    {\n      \"column\": \"cd_type\",\n      \"properties\": {\n        \"dtype\": \"category\",\n        \"num_unique_values\": 6,\n        \"samples\": [\n          \"potential\",\n          \"atypical\"\n        ],\n        \"semantic_type\": \"\",\n        \"description\": \"\"\n      }\n    },\n    {\n      \"column\": \"Disease_Diagnose\",\n      \"properties\": {\n        \"dtype\": \"category\",\n        \"num_unique_values\": 2,\n        \"samples\": [\n          \"no\",\n          \"yes\"\n        ],\n        \"semantic_type\": \"\",\n        \"description\": \"\"\n      }\n    }\n  ]\n}"
            }
          },
          "metadata": {},
          "execution_count": 80
        }
      ]
    },
    {
      "cell_type": "code",
      "source": [
        "original_data.dtypes"
      ],
      "metadata": {
        "colab": {
          "base_uri": "https://localhost:8080/"
        },
        "id": "NNSsoZ4k9cqF",
        "outputId": "439707ef-69b3-4ee5-91ac-b2f45323ded7"
      },
      "execution_count": null,
      "outputs": [
        {
          "output_type": "execute_result",
          "data": {
            "text/plain": [
              "Age                   int64\n",
              "Gender               object\n",
              "Diabetes             object\n",
              "Diabetes Type        object\n",
              "Diarrhoea            object\n",
              "Abdominal            object\n",
              "Short_Stature        object\n",
              "Sticky_Stool         object\n",
              "Weight_loss          object\n",
              "IgA                 float64\n",
              "IgG                 float64\n",
              "IgM                 float64\n",
              "Marsh                object\n",
              "cd_type              object\n",
              "Disease_Diagnose     object\n",
              "dtype: object"
            ]
          },
          "metadata": {},
          "execution_count": 42
        }
      ]
    },
    {
      "cell_type": "code",
      "source": [
        "# what are the types of values in the field\n",
        "\n",
        "print('Gender values are: ', original_data['Gender'].unique())\n",
        "print('Diabetes values are', original_data['Diabetes'].unique())\n",
        "print('Diabetes Type values are', original_data['Diabetes Type'].unique())\n",
        "print('Diarrhoea values are: ', original_data['Diarrhoea'].unique())\n",
        "print('Abdominal values are', original_data['Abdominal'].unique())\n",
        "print('Short_Stature values are: ', original_data['Short_Stature'].unique())\n",
        "print('Sticky_Stool values are: ', original_data['Sticky_Stool'].unique())\n",
        "print('Weight_loss values are: ', original_data['Weight_loss'].unique())\n",
        "print('Marsh values are: ', original_data['Marsh'].unique())\n",
        "print('cd_type values are: ', original_data['cd_type'].unique())\n",
        "print('Disease_Diagnose values are: ', original_data['Disease_Diagnose'].unique())"
      ],
      "metadata": {
        "colab": {
          "base_uri": "https://localhost:8080/"
        },
        "id": "O7NLCm_F9fc_",
        "outputId": "a03d49ea-74b2-4a13-fdf6-93b70e403c1d"
      },
      "execution_count": null,
      "outputs": [
        {
          "output_type": "stream",
          "name": "stdout",
          "text": [
            "Gender values are:  ['Male' 'Female']\n",
            "Diabetes values are ['Yes' 'no']\n",
            "Diabetes Type values are ['Type 1' nan 'Type 2']\n",
            "Diarrhoea values are:  ['inflammatory' 'fatty ' 'watery']\n",
            "Abdominal values are ['yes' 'no']\n",
            "Short_Stature values are:  ['PSS' 'Variant ' 'DSS']\n",
            "Sticky_Stool values are:  ['no' 'yes']\n",
            "Weight_loss values are:  ['no' 'yes']\n",
            "Marsh values are:  ['marsh type 0' 'marsh type 3a' 'marsh type 1' 'marsh type 2'\n",
            " 'marsh type 3b' 'none' 'marsh type 3c']\n",
            "cd_type values are:  ['potential' 'atypical' 'latent' 'silent' 'typical' 'none']\n",
            "Disease_Diagnose values are:  ['yes' 'no']\n"
          ]
        }
      ]
    },
    {
      "cell_type": "code",
      "source": [
        "original_data=original_data.drop(columns=['Disease_Diagnose'])"
      ],
      "metadata": {
        "id": "P_H6G8bzYEyN"
      },
      "execution_count": null,
      "outputs": []
    },
    {
      "cell_type": "code",
      "source": [
        "#how many null values are there\n",
        "original_data.isnull().sum()"
      ],
      "metadata": {
        "colab": {
          "base_uri": "https://localhost:8080/"
        },
        "id": "6gl0wrqR9kJS",
        "outputId": "67051372-d48c-4c94-af04-122e8dd2e804"
      },
      "execution_count": null,
      "outputs": [
        {
          "output_type": "execute_result",
          "data": {
            "text/plain": [
              "Age                0\n",
              "Gender             0\n",
              "Diabetes           0\n",
              "Diabetes Type    418\n",
              "Diarrhoea          0\n",
              "Abdominal          0\n",
              "Short_Stature      0\n",
              "Sticky_Stool       0\n",
              "Weight_loss        0\n",
              "IgA                0\n",
              "IgG                0\n",
              "IgM                0\n",
              "Marsh              0\n",
              "cd_type            0\n",
              "dtype: int64"
            ]
          },
          "metadata": {},
          "execution_count": 83
        }
      ]
    },
    {
      "cell_type": "code",
      "source": [
        "# check for data balancy\n",
        "original_data['cd_type'].value_counts()"
      ],
      "metadata": {
        "colab": {
          "base_uri": "https://localhost:8080/"
        },
        "id": "_YphVBSp-BW8",
        "outputId": "27be8d3c-691e-49b4-dadf-4393ac4a278b"
      },
      "execution_count": null,
      "outputs": [
        {
          "output_type": "execute_result",
          "data": {
            "text/plain": [
              "cd_type\n",
              "atypical     545\n",
              "silent       400\n",
              "typical      380\n",
              "none         350\n",
              "latent       301\n",
              "potential    230\n",
              "Name: count, dtype: int64"
            ]
          },
          "metadata": {},
          "execution_count": 84
        }
      ]
    },
    {
      "cell_type": "code",
      "source": [
        "original_data = original_data.fillna('none')"
      ],
      "metadata": {
        "id": "yIGv5UVb-EGZ"
      },
      "execution_count": null,
      "outputs": []
    },
    {
      "cell_type": "code",
      "source": [
        "original_data.isnull().sum()"
      ],
      "metadata": {
        "colab": {
          "base_uri": "https://localhost:8080/"
        },
        "id": "radDZ0_W-dxX",
        "outputId": "287d7880-74f5-45ce-df82-3d8d48d23709"
      },
      "execution_count": null,
      "outputs": [
        {
          "output_type": "execute_result",
          "data": {
            "text/plain": [
              "Age              0\n",
              "Gender           0\n",
              "Diabetes         0\n",
              "Diabetes Type    0\n",
              "Diarrhoea        0\n",
              "Abdominal        0\n",
              "Short_Stature    0\n",
              "Sticky_Stool     0\n",
              "Weight_loss      0\n",
              "IgA              0\n",
              "IgG              0\n",
              "IgM              0\n",
              "Marsh            0\n",
              "cd_type          0\n",
              "dtype: int64"
            ]
          },
          "metadata": {},
          "execution_count": 86
        }
      ]
    },
    {
      "cell_type": "code",
      "source": [
        "# Label Encoding for categorical variables\n",
        "label_encoders = {}\n",
        "for column in original_data.columns:\n",
        "    if original_data[column].dtype == 'object':\n",
        "        label_encoders[column] = LabelEncoder()\n",
        "        original_data[column] = label_encoders[column].fit_transform(original_data[column])"
      ],
      "metadata": {
        "id": "WLVZXGCP-i8V"
      },
      "execution_count": null,
      "outputs": []
    },
    {
      "cell_type": "code",
      "source": [
        "original_data.dtypes"
      ],
      "metadata": {
        "colab": {
          "base_uri": "https://localhost:8080/"
        },
        "id": "rWSLjVS2-kUi",
        "outputId": "e535c316-d8a4-48c5-fd82-18b46046afa0"
      },
      "execution_count": null,
      "outputs": [
        {
          "output_type": "execute_result",
          "data": {
            "text/plain": [
              "Age                int64\n",
              "Gender             int64\n",
              "Diabetes           int64\n",
              "Diabetes Type      int64\n",
              "Diarrhoea          int64\n",
              "Abdominal          int64\n",
              "Short_Stature      int64\n",
              "Sticky_Stool       int64\n",
              "Weight_loss        int64\n",
              "IgA              float64\n",
              "IgG              float64\n",
              "IgM              float64\n",
              "Marsh              int64\n",
              "cd_type            int64\n",
              "dtype: object"
            ]
          },
          "metadata": {},
          "execution_count": 88
        }
      ]
    },
    {
      "cell_type": "code",
      "source": [
        "# Plot Age distribution\n",
        "plt.figure(figsize=(10, 6))\n",
        "sns.histplot(data=original_data, x='Age', bins=20, kde=True, color='skyblue')\n",
        "plt.title('Distribution of Age')\n",
        "plt.xlabel('Age')\n",
        "plt.ylabel('Frequency')\n",
        "plt.grid(True)\n",
        "plt.show()"
      ],
      "metadata": {
        "id": "3biuwAYDFsjt",
        "outputId": "9646ce82-535b-4ee3-e037-097d09a3bbbd",
        "colab": {
          "base_uri": "https://localhost:8080/",
          "height": 549
        }
      },
      "execution_count": null,
      "outputs": [
        {
          "output_type": "display_data",
          "data": {
            "text/plain": [
              "<Figure size 1000x600 with 1 Axes>"
            ],
            "image/png": "[encoded data removed]"
          },
          "metadata": {}
        }
      ]
    },
    {
      "cell_type": "code",
      "source": [
        "# Calculate the correlation between the target column 'cd_type' and all features\n",
        "correlation= original_data.corr()['cd_type'].sort_values()"
      ],
      "metadata": {
        "id": "B4igJxBD-v4r"
      },
      "execution_count": null,
      "outputs": []
    },
    {
      "cell_type": "code",
      "source": [
        "# Select the top 5 features for classification\n",
        "top_features = correlation.iloc[:5].index.tolist()"
      ],
      "metadata": {
        "id": "TXYBMFu-fTmU"
      },
      "execution_count": null,
      "outputs": []
    },
    {
      "cell_type": "code",
      "source": [
        "#upsampling to address class imbalance\n",
        "df_majority = original_data[original_data['cd_type'] == 1]\n",
        "df_minority = original_data[original_data['cd_type'] == 0]\n",
        "df_minority_upsampled = df_minority.sample(n=len(df_majority)*5, replace=True, random_state=42)\n",
        "balanced_data = pd.concat([df_majority, df_minority_upsampled])"
      ],
      "metadata": {
        "id": "6PUICn4w-6OG"
      },
      "execution_count": null,
      "outputs": []
    },
    {
      "cell_type": "code",
      "source": [
        "# Split the data into features and target variable\n",
        "X = original_data[top_features]\n",
        "y = original_data['cd_type']"
      ],
      "metadata": {
        "id": "zAMIhWO3-_55"
      },
      "execution_count": null,
      "outputs": []
    },
    {
      "cell_type": "code",
      "source": [
        "# Split data into train and test sets\n",
        "X_train, X_test, y_train, y_test = train_test_split(X, y, test_size=0.3, stratify=y, random_state=42)"
      ],
      "metadata": {
        "id": "8thtBLVh_Cpj"
      },
      "execution_count": null,
      "outputs": []
    },
    {
      "cell_type": "code",
      "source": [
        "#RF_Classifier\n",
        "param_grid = {\n",
        "    'n_estimators': [5],\n",
        "    'max_depth': [10],\n",
        "    'max_features': ['sqrt'],\n",
        "    'min_samples_split': [50],\n",
        "    'min_samples_leaf': [50],\n",
        "    'bootstrap': [True, False],\n",
        "    'criterion': ['gini', 'entropy']\n",
        "}"
      ],
      "metadata": {
        "id": "-ufHZZm-_VIh"
      },
      "execution_count": null,
      "outputs": []
    },
    {
      "cell_type": "code",
      "source": [
        "print (\"X_train :\", X_train.shape )\n",
        "print (\"y_train :\", y_train.shape )"
      ],
      "metadata": {
        "colab": {
          "base_uri": "https://localhost:8080/"
        },
        "id": "FJOsLu2y_b6j",
        "outputId": "1f4e86e3-ffdf-4a1f-b01e-68b960e80fee"
      },
      "execution_count": null,
      "outputs": [
        {
          "output_type": "stream",
          "name": "stdout",
          "text": [
            "X_train : (1544, 5)\n",
            "y_train : (1544,)\n"
          ]
        }
      ]
    },
    {
      "cell_type": "code",
      "source": [
        "# Create an instance of the RandomForestClassifier class\n",
        "rf = RandomForestClassifier()\n",
        "\n",
        "# Create an instance of the GridSearchCV class\n",
        "grid_search_rf = GridSearchCV(estimator= rf ,\n",
        "                              param_grid= param_grid,\n",
        "                              cv=4,\n",
        "                              scoring='f1',\n",
        "                              n_jobs=-1,\n",
        "                              verbose=2)"
      ],
      "metadata": {
        "id": "W5MFAgyF_4Ii"
      },
      "execution_count": null,
      "outputs": []
    },
    {
      "cell_type": "code",
      "source": [
        "# Fit the grid search object to the data\n",
        "grid_search_rf.fit(X_train, y_train)"
      ],
      "metadata": {
        "colab": {
          "base_uri": "https://localhost:8080/",
          "height": 188
        },
        "id": "PHjUJeR9Aae0",
        "outputId": "3be15cb9-cb45-4cf6-84cb-30a07be03094"
      },
      "execution_count": null,
      "outputs": [
        {
          "output_type": "stream",
          "name": "stdout",
          "text": [
            "Fitting 4 folds for each of 4 candidates, totalling 16 fits\n"
          ]
        },
        {
          "output_type": "stream",
          "name": "stderr",
          "text": [
            "/usr/local/lib/python3.10/dist-packages/sklearn/model_selection/_search.py:952: UserWarning: One or more of the test scores are non-finite: [nan nan nan nan]\n",
            "  warnings.warn(\n"
          ]
        },
        {
          "output_type": "execute_result",
          "data": {
            "text/plain": [
              "GridSearchCV(cv=4, estimator=RandomForestClassifier(), n_jobs=-1,\n",
              "             param_grid={'bootstrap': [True, False],\n",
              "                         'criterion': ['gini', 'entropy'], 'max_depth': [10],\n",
              "                         'max_features': ['sqrt'], 'min_samples_leaf': [50],\n",
              "                         'min_samples_split': [50], 'n_estimators': [5]},\n",
              "             scoring='f1', verbose=2)"
            ],
            "text/html": [
              "<style>#sk-container-id-5 {color: black;background-color: white;}#sk-container-id-5 pre{padding: 0;}#sk-container-id-5 div.sk-toggleable {background-color: white;}#sk-container-id-5 label.sk-toggleable__label {cursor: pointer;display: block;width: 100%;margin-bottom: 0;padding: 0.3em;box-sizing: border-box;text-align: center;}#sk-container-id-5 label.sk-toggleable__label-arrow:before {content: \"▸\";float: left;margin-right: 0.25em;color: #696969;}#sk-container-id-5 label.sk-toggleable__label-arrow:hover:before {color: black;}#sk-container-id-5 div.sk-estimator:hover label.sk-toggleable__label-arrow:before {color: black;}#sk-container-id-5 div.sk-toggleable__content {max-height: 0;max-width: 0;overflow: hidden;text-align: left;background-color: #f0f8ff;}#sk-container-id-5 div.sk-toggleable__content pre {margin: 0.2em;color: black;border-radius: 0.25em;background-color: #f0f8ff;}#sk-container-id-5 input.sk-toggleable__control:checked~div.sk-toggleable__content {max-height: 200px;max-width: 100%;overflow: auto;}#sk-container-id-5 input.sk-toggleable__control:checked~label.sk-toggleable__label-arrow:before {content: \"▾\";}#sk-container-id-5 div.sk-estimator input.sk-toggleable__control:checked~label.sk-toggleable__label {background-color: #d4ebff;}#sk-container-id-5 div.sk-label input.sk-toggleable__control:checked~label.sk-toggleable__label {background-color: #d4ebff;}#sk-container-id-5 input.sk-hidden--visually {border: 0;clip: rect(1px 1px 1px 1px);clip: rect(1px, 1px, 1px, 1px);height: 1px;margin: -1px;overflow: hidden;padding: 0;position: absolute;width: 1px;}#sk-container-id-5 div.sk-estimator {font-family: monospace;background-color: #f0f8ff;border: 1px dotted black;border-radius: 0.25em;box-sizing: border-box;margin-bottom: 0.5em;}#sk-container-id-5 div.sk-estimator:hover {background-color: #d4ebff;}#sk-container-id-5 div.sk-parallel-item::after {content: \"\";width: 100%;border-bottom: 1px solid gray;flex-grow: 1;}#sk-container-id-5 div.sk-label:hover label.sk-toggleable__label {background-color: #d4ebff;}#sk-container-id-5 div.sk-serial::before {content: \"\";position: absolute;border-left: 1px solid gray;box-sizing: border-box;top: 0;bottom: 0;left: 50%;z-index: 0;}#sk-container-id-5 div.sk-serial {display: flex;flex-direction: column;align-items: center;background-color: white;padding-right: 0.2em;padding-left: 0.2em;position: relative;}#sk-container-id-5 div.sk-item {position: relative;z-index: 1;}#sk-container-id-5 div.sk-parallel {display: flex;align-items: stretch;justify-content: center;background-color: white;position: relative;}#sk-container-id-5 div.sk-item::before, #sk-container-id-5 div.sk-parallel-item::before {content: \"\";position: absolute;border-left: 1px solid gray;box-sizing: border-box;top: 0;bottom: 0;left: 50%;z-index: -1;}#sk-container-id-5 div.sk-parallel-item {display: flex;flex-direction: column;z-index: 1;position: relative;background-color: white;}#sk-container-id-5 div.sk-parallel-item:first-child::after {align-self: flex-end;width: 50%;}#sk-container-id-5 div.sk-parallel-item:last-child::after {align-self: flex-start;width: 50%;}#sk-container-id-5 div.sk-parallel-item:only-child::after {width: 0;}#sk-container-id-5 div.sk-dashed-wrapped {border: 1px dashed gray;margin: 0 0.4em 0.5em 0.4em;box-sizing: border-box;padding-bottom: 0.4em;background-color: white;}#sk-container-id-5 div.sk-label label {font-family: monospace;font-weight: bold;display: inline-block;line-height: 1.2em;}#sk-container-id-5 div.sk-label-container {text-align: center;}#sk-container-id-5 div.sk-container {/* jupyter's `normalize.less` sets `[hidden] { display: none; }` but bootstrap.min.css set `[hidden] { display: none !important; }` so we also need the `!important` here to be able to override the default hidden behavior on the sphinx rendered scikit-learn.org. See: https://github.com/scikit-learn/scikit-learn/issues/21755 */display: inline-block !important;position: relative;}#sk-container-id-5 div.sk-text-repr-fallback {display: none;}</style><div id=\"sk-container-id-5\" class=\"sk-top-container\"><div class=\"sk-text-repr-fallback\"><pre>GridSearchCV(cv=4, estimator=RandomForestClassifier(), n_jobs=-1,\n",
              "             param_grid={&#x27;bootstrap&#x27;: [True, False],\n",
              "                         &#x27;criterion&#x27;: [&#x27;gini&#x27;, &#x27;entropy&#x27;], &#x27;max_depth&#x27;: [10],\n",
              "                         &#x27;max_features&#x27;: [&#x27;sqrt&#x27;], &#x27;min_samples_leaf&#x27;: [50],\n",
              "                         &#x27;min_samples_split&#x27;: [50], &#x27;n_estimators&#x27;: [5]},\n",
              "             scoring=&#x27;f1&#x27;, verbose=2)</pre><b>In a Jupyter environment, please rerun this cell to show the HTML representation or trust the notebook. <br />On GitHub, the HTML representation is unable to render, please try loading this page with nbviewer.org.</b></div><div class=\"sk-container\" hidden><div class=\"sk-item sk-dashed-wrapped\"><div class=\"sk-label-container\"><div class=\"sk-label sk-toggleable\"><input class=\"sk-toggleable__control sk-hidden--visually\" id=\"sk-estimator-id-9\" type=\"checkbox\" ><label for=\"sk-estimator-id-9\" class=\"sk-toggleable__label sk-toggleable__label-arrow\">GridSearchCV</label><div class=\"sk-toggleable__content\"><pre>GridSearchCV(cv=4, estimator=RandomForestClassifier(), n_jobs=-1,\n",
              "             param_grid={&#x27;bootstrap&#x27;: [True, False],\n",
              "                         &#x27;criterion&#x27;: [&#x27;gini&#x27;, &#x27;entropy&#x27;], &#x27;max_depth&#x27;: [10],\n",
              "                         &#x27;max_features&#x27;: [&#x27;sqrt&#x27;], &#x27;min_samples_leaf&#x27;: [50],\n",
              "                         &#x27;min_samples_split&#x27;: [50], &#x27;n_estimators&#x27;: [5]},\n",
              "             scoring=&#x27;f1&#x27;, verbose=2)</pre></div></div></div><div class=\"sk-parallel\"><div class=\"sk-parallel-item\"><div class=\"sk-item\"><div class=\"sk-label-container\"><div class=\"sk-label sk-toggleable\"><input class=\"sk-toggleable__control sk-hidden--visually\" id=\"sk-estimator-id-10\" type=\"checkbox\" ><label for=\"sk-estimator-id-10\" class=\"sk-toggleable__label sk-toggleable__label-arrow\">estimator: RandomForestClassifier</label><div class=\"sk-toggleable__content\"><pre>RandomForestClassifier()</pre></div></div></div><div class=\"sk-serial\"><div class=\"sk-item\"><div class=\"sk-estimator sk-toggleable\"><input class=\"sk-toggleable__control sk-hidden--visually\" id=\"sk-estimator-id-11\" type=\"checkbox\" ><label for=\"sk-estimator-id-11\" class=\"sk-toggleable__label sk-toggleable__label-arrow\">RandomForestClassifier</label><div class=\"sk-toggleable__content\"><pre>RandomForestClassifier()</pre></div></div></div></div></div></div></div></div></div></div>"
            ]
          },
          "metadata": {},
          "execution_count": 97
        }
      ]
    },
    {
      "cell_type": "code",
      "source": [
        "# Best RF parameters:\n",
        "best_model_rf = grid_search_rf.best_estimator_\n",
        "\n",
        "best_params_rf = grid_search_rf.best_params_\n",
        "print(\"Best RF parameters:\", best_params_rf)"
      ],
      "metadata": {
        "colab": {
          "base_uri": "https://localhost:8080/"
        },
        "id": "BRniGhC3AffL",
        "outputId": "9aea2c3d-146a-4585-f1fd-5a28c9217d3a"
      },
      "execution_count": null,
      "outputs": [
        {
          "output_type": "stream",
          "name": "stdout",
          "text": [
            "Best RF parameters: {'bootstrap': True, 'criterion': 'gini', 'max_depth': 10, 'max_features': 'sqrt', 'min_samples_leaf': 50, 'min_samples_split': 50, 'n_estimators': 5}\n"
          ]
        }
      ]
    },
    {
      "cell_type": "code",
      "source": [
        "# Train the model\n",
        "rf = RandomForestClassifier(n_estimators=5, max_depth=10, max_features='sqrt',\n",
        "                            min_samples_split=50, min_samples_leaf=50,\n",
        "                            bootstrap=True, criterion='gini')\n",
        "rf.fit(X_train, y_train)"
      ],
      "metadata": {
        "colab": {
          "base_uri": "https://localhost:8080/",
          "height": 91
        },
        "id": "SRfHds_jAk-e",
        "outputId": "779cb20c-5d93-41bd-9819-b614f9f329cf"
      },
      "execution_count": null,
      "outputs": [
        {
          "output_type": "execute_result",
          "data": {
            "text/plain": [
              "RandomForestClassifier(max_depth=10, min_samples_leaf=50, min_samples_split=50,\n",
              "                       n_estimators=5)"
            ],
            "text/html": [
              "<style>#sk-container-id-8 {color: black;background-color: white;}#sk-container-id-8 pre{padding: 0;}#sk-container-id-8 div.sk-toggleable {background-color: white;}#sk-container-id-8 label.sk-toggleable__label {cursor: pointer;display: block;width: 100%;margin-bottom: 0;padding: 0.3em;box-sizing: border-box;text-align: center;}#sk-container-id-8 label.sk-toggleable__label-arrow:before {content: \"▸\";float: left;margin-right: 0.25em;color: #696969;}#sk-container-id-8 label.sk-toggleable__label-arrow:hover:before {color: black;}#sk-container-id-8 div.sk-estimator:hover label.sk-toggleable__label-arrow:before {color: black;}#sk-container-id-8 div.sk-toggleable__content {max-height: 0;max-width: 0;overflow: hidden;text-align: left;background-color: #f0f8ff;}#sk-container-id-8 div.sk-toggleable__content pre {margin: 0.2em;color: black;border-radius: 0.25em;background-color: #f0f8ff;}#sk-container-id-8 input.sk-toggleable__control:checked~div.sk-toggleable__content {max-height: 200px;max-width: 100%;overflow: auto;}#sk-container-id-8 input.sk-toggleable__control:checked~label.sk-toggleable__label-arrow:before {content: \"▾\";}#sk-container-id-8 div.sk-estimator input.sk-toggleable__control:checked~label.sk-toggleable__label {background-color: #d4ebff;}#sk-container-id-8 div.sk-label input.sk-toggleable__control:checked~label.sk-toggleable__label {background-color: #d4ebff;}#sk-container-id-8 input.sk-hidden--visually {border: 0;clip: rect(1px 1px 1px 1px);clip: rect(1px, 1px, 1px, 1px);height: 1px;margin: -1px;overflow: hidden;padding: 0;position: absolute;width: 1px;}#sk-container-id-8 div.sk-estimator {font-family: monospace;background-color: #f0f8ff;border: 1px dotted black;border-radius: 0.25em;box-sizing: border-box;margin-bottom: 0.5em;}#sk-container-id-8 div.sk-estimator:hover {background-color: #d4ebff;}#sk-container-id-8 div.sk-parallel-item::after {content: \"\";width: 100%;border-bottom: 1px solid gray;flex-grow: 1;}#sk-container-id-8 div.sk-label:hover label.sk-toggleable__label {background-color: #d4ebff;}#sk-container-id-8 div.sk-serial::before {content: \"\";position: absolute;border-left: 1px solid gray;box-sizing: border-box;top: 0;bottom: 0;left: 50%;z-index: 0;}#sk-container-id-8 div.sk-serial {display: flex;flex-direction: column;align-items: center;background-color: white;padding-right: 0.2em;padding-left: 0.2em;position: relative;}#sk-container-id-8 div.sk-item {position: relative;z-index: 1;}#sk-container-id-8 div.sk-parallel {display: flex;align-items: stretch;justify-content: center;background-color: white;position: relative;}#sk-container-id-8 div.sk-item::before, #sk-container-id-8 div.sk-parallel-item::before {content: \"\";position: absolute;border-left: 1px solid gray;box-sizing: border-box;top: 0;bottom: 0;left: 50%;z-index: -1;}#sk-container-id-8 div.sk-parallel-item {display: flex;flex-direction: column;z-index: 1;position: relative;background-color: white;}#sk-container-id-8 div.sk-parallel-item:first-child::after {align-self: flex-end;width: 50%;}#sk-container-id-8 div.sk-parallel-item:last-child::after {align-self: flex-start;width: 50%;}#sk-container-id-8 div.sk-parallel-item:only-child::after {width: 0;}#sk-container-id-8 div.sk-dashed-wrapped {border: 1px dashed gray;margin: 0 0.4em 0.5em 0.4em;box-sizing: border-box;padding-bottom: 0.4em;background-color: white;}#sk-container-id-8 div.sk-label label {font-family: monospace;font-weight: bold;display: inline-block;line-height: 1.2em;}#sk-container-id-8 div.sk-label-container {text-align: center;}#sk-container-id-8 div.sk-container {/* jupyter's `normalize.less` sets `[hidden] { display: none; }` but bootstrap.min.css set `[hidden] { display: none !important; }` so we also need the `!important` here to be able to override the default hidden behavior on the sphinx rendered scikit-learn.org. See: https://github.com/scikit-learn/scikit-learn/issues/21755 */display: inline-block !important;position: relative;}#sk-container-id-8 div.sk-text-repr-fallback {display: none;}</style><div id=\"sk-container-id-8\" class=\"sk-top-container\"><div class=\"sk-text-repr-fallback\"><pre>RandomForestClassifier(max_depth=10, min_samples_leaf=50, min_samples_split=50,\n",
              "                       n_estimators=5)</pre><b>In a Jupyter environment, please rerun this cell to show the HTML representation or trust the notebook. <br />On GitHub, the HTML representation is unable to render, please try loading this page with nbviewer.org.</b></div><div class=\"sk-container\" hidden><div class=\"sk-item\"><div class=\"sk-estimator sk-toggleable\"><input class=\"sk-toggleable__control sk-hidden--visually\" id=\"sk-estimator-id-14\" type=\"checkbox\" checked><label for=\"sk-estimator-id-14\" class=\"sk-toggleable__label sk-toggleable__label-arrow\">RandomForestClassifier</label><div class=\"sk-toggleable__content\"><pre>RandomForestClassifier(max_depth=10, min_samples_leaf=50, min_samples_split=50,\n",
              "                       n_estimators=5)</pre></div></div></div></div></div>"
            ]
          },
          "metadata": {},
          "execution_count": 110
        }
      ]
    },
    {
      "cell_type": "code",
      "source": [
        "# Predict on test set\n",
        "y_pred = rf.predict(X_test)"
      ],
      "metadata": {
        "id": "yxeTTJ8OAnj4"
      },
      "execution_count": null,
      "outputs": []
    },
    {
      "cell_type": "code",
      "source": [
        "# Calculate accuracy\n",
        "accuracy = accuracy_score(y_test, y_pred)\n",
        "print(\"Accuracy:\", accuracy)"
      ],
      "metadata": {
        "colab": {
          "base_uri": "https://localhost:8080/"
        },
        "id": "RQTFv16VDPVk",
        "outputId": "4200a1db-d412-4c35-cbf7-ab980c5864be"
      },
      "execution_count": null,
      "outputs": [
        {
          "output_type": "stream",
          "name": "stdout",
          "text": [
            "Accuracy: 0.8187311178247734\n"
          ]
        }
      ]
    },
    {
      "cell_type": "code",
      "source": [
        "# Generate a confusion matrix\n",
        "cm = confusion_matrix(y_test, y_pred)\n",
        "print(\"\\nConfusion matrix: \\n\", cm)"
      ],
      "metadata": {
        "colab": {
          "base_uri": "https://localhost:8080/"
        },
        "id": "EnA5zlBTBBy4",
        "outputId": "ebfb662d-8aac-4546-cdbe-50e0ef14fb29"
      },
      "execution_count": null,
      "outputs": [
        {
          "output_type": "stream",
          "name": "stdout",
          "text": [
            "\n",
            "Confusion matrix: \n",
            " [[143   0   0   0  19   2]\n",
            " [  0  87   0   1   2   0]\n",
            " [  0   0 105   0   0   0]\n",
            " [  0   8   0  51  10   0]\n",
            " [ 12   5   0   5  96   2]\n",
            " [ 54   0   0   0   0  60]]\n"
          ]
        }
      ]
    },
    {
      "cell_type": "code",
      "source": [
        "# Generate a classification report\n",
        "cr = classification_report(y_test, y_pred)\n",
        "print(\"\\n Classification report: \\n\", cr)"
      ],
      "metadata": {
        "colab": {
          "base_uri": "https://localhost:8080/"
        },
        "id": "FpCoJIcUBav5",
        "outputId": "e74adc91-7485-4591-f3f3-1b0921b63720"
      },
      "execution_count": null,
      "outputs": [
        {
          "output_type": "stream",
          "name": "stdout",
          "text": [
            "\n",
            " Classification report: \n",
            "               precision    recall  f1-score   support\n",
            "\n",
            "           0       0.68      0.87      0.77       164\n",
            "           1       0.87      0.97      0.92        90\n",
            "           2       1.00      1.00      1.00       105\n",
            "           3       0.89      0.74      0.81        69\n",
            "           4       0.76      0.80      0.78       120\n",
            "           5       0.94      0.53      0.67       114\n",
            "\n",
            "    accuracy                           0.82       662\n",
            "   macro avg       0.86      0.82      0.82       662\n",
            "weighted avg       0.84      0.82      0.81       662\n",
            "\n"
          ]
        }
      ]
    },
    {
      "cell_type": "code",
      "source": [
        "# Prompt user for input values\n",
        "user_input = {}\n",
        "for feature in top_features:\n",
        "    if feature in label_encoders:\n",
        "        unique_values = original_data[feature].unique()\n",
        "        user_input[feature] = input(f\"Enter value for {feature} ({', '.join(map(str, unique_values))}): \")\n",
        "    else:\n",
        "        user_input[feature] = float(input(f\"Enter value for {feature}: \"))"
      ],
      "metadata": {
        "colab": {
          "base_uri": "https://localhost:8080/"
        },
        "id": "sa_fqmw9NmpE",
        "outputId": "b71ee984-99be-414b-d6b5-0487c05ff16c"
      },
      "execution_count": null,
      "outputs": [
        {
          "name": "stdout",
          "output_type": "stream",
          "text": [
            "Enter value for Marsh (0, 3, 1, 2, 4, 6, 5): 1\n",
            "Enter value for IgM: 0.5\n",
            "Enter value for Short_Stature (1, 2, 0): 2\n",
            "Enter value for Age: 8\n",
            "Enter value for IgA: 0.4\n"
          ]
        }
      ]
    },
    {
      "cell_type": "code",
      "source": [
        "# Encode user input\n",
        "encoded_input = {}\n",
        "for feature, value in user_input.items():\n",
        "    if feature in label_encoders:\n",
        "        unique_values = original_data[feature].unique()\n",
        "        if value in unique_values:\n",
        "            encoded_input[feature] = label_encoders[feature].transform([value])[0]\n",
        "        else:\n",
        "            print(f\"Invalid value entered for {feature}. Please enter one of the following: {', '.join(map(str, unique_values))}\")\n",
        "            # You can handle this situation however you prefer, for example, asking the user to input again.\n",
        "    else:\n",
        "        encoded_input[feature] = value\n"
      ],
      "metadata": {
        "colab": {
          "base_uri": "https://localhost:8080/"
        },
        "id": "y871UJqNQHY4",
        "outputId": "e40d9296-3600-4f1a-a51e-3d01c8e32eaa"
      },
      "execution_count": null,
      "outputs": [
        {
          "output_type": "stream",
          "name": "stdout",
          "text": [
            "Invalid value entered for Marsh. Please enter one of the following: 0, 3, 1, 2, 4, 6, 5\n",
            "Invalid value entered for Short_Stature. Please enter one of the following: 1, 2, 0\n"
          ]
        }
      ]
    },
    {
      "cell_type": "code",
      "source": [
        "# Ensure all features are present in the input DataFrame\n",
        "for feature in top_features:\n",
        "    if feature not in encoded_input:\n",
        "        if feature in original_data.columns:\n",
        "            most_common_category = original_data[feature].mode()[0]\n",
        "            encoded_input[feature] = most_common_category\n",
        "        else:\n",
        "            print(f\"Warning: Feature '{feature}' not found in the dataset. Skipping...\")"
      ],
      "metadata": {
        "id": "yqxcnXAcTGmV"
      },
      "execution_count": null,
      "outputs": []
    },
    {
      "cell_type": "code",
      "source": [
        "# Convert encoded input to a DataFrame\n",
        "input_df = pd.DataFrame([encoded_input])"
      ],
      "metadata": {
        "id": "CLteCjS1THug"
      },
      "execution_count": null,
      "outputs": []
    },
    {
      "cell_type": "code",
      "source": [
        "print(\"Features used during model fitting:\", rf.feature_names_in_)\n",
        "print(\"Features in the input DataFrame:\", input_df.columns)\n"
      ],
      "metadata": {
        "colab": {
          "base_uri": "https://localhost:8080/"
        },
        "id": "QBPF1-29Z_Sj",
        "outputId": "53201123-eabb-434c-b932-a6ad918c3969"
      },
      "execution_count": null,
      "outputs": [
        {
          "output_type": "stream",
          "name": "stdout",
          "text": [
            "Features used during model fitting: ['Marsh' 'IgM' 'Short_Stature' 'Age' 'IgA']\n",
            "Features in the input DataFrame: Index(['IgM', 'Age', 'IgA', 'Marsh', 'Short_Stature'], dtype='object')\n"
          ]
        }
      ]
    },
    {
      "cell_type": "code",
      "source": [
        "# Reorder columns in the input DataFrame to match the order used during model fitting\n",
        "input_df = input_df[rf.feature_names_in_]"
      ],
      "metadata": {
        "id": "ANjwFq5PTY84"
      },
      "execution_count": null,
      "outputs": []
    },
    {
      "cell_type": "code",
      "source": [
        "# Classify the type of celiac disease\n",
        "predicted_cd_type = rf.predict(input_df)"
      ],
      "metadata": {
        "id": "3etJN1x2ZaJg"
      },
      "execution_count": null,
      "outputs": []
    },
    {
      "cell_type": "code",
      "source": [
        "# Decode the predicted cd_type\n",
        "cd_type_labels = label_encoders['cd_type'].classes_\n",
        "predicted_cd_type_label = cd_type_labels[predicted_cd_type[0]]"
      ],
      "metadata": {
        "id": "-_dS888yjDx5"
      },
      "execution_count": null,
      "outputs": []
    },
    {
      "cell_type": "code",
      "source": [
        "# Display the type of celiac disease based on user's input values\n",
        "print(\"Classified celiac disease type based on input values:\", predicted_cd_type_label)"
      ],
      "metadata": {
        "colab": {
          "base_uri": "https://localhost:8080/"
        },
        "id": "37WMlft8jHBX",
        "outputId": "0d6e5586-e53c-48c0-e17e-082dda18e2c8"
      },
      "execution_count": null,
      "outputs": [
        {
          "output_type": "stream",
          "name": "stdout",
          "text": [
            "Classified celiac disease type based on input values: silent\n"
          ]
        }
      ]
    }
  ]
}